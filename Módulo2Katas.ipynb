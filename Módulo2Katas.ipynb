{
 "cells": [
  {
   "cell_type": "markdown",
   "metadata": {},
   "source": [
    "# Crear un entorno virtual"
   ]
  },
  {
   "cell_type": "markdown",
   "metadata": {},
   "source": [
    "Se ejecuta el comando\n",
    "```python\n",
    "python3 -m venv env \n",
    "```\n",
    "para crear un entorno virtual mediante \"venv\", despues se ejecuta el siguiente comando (mac)\n",
    "```python\n",
    "source env/bin/activate\n",
    "```\n",
    "\n",
    "![kata](images/kata2-1.png)\n",
    "\n",
    "Nuestra terminal cambiara y ahora muestra al principio \"(env)\"\n",
    "\n",
    "![kata](images/kata2-2.png)\n"
   ]
  },
  {
   "cell_type": "markdown",
   "metadata": {},
   "source": [
    "## Instalar una biblioteca"
   ]
  },
  {
   "cell_type": "markdown",
   "metadata": {},
   "source": [
    "El siguiente comando sirve para ver las bibliotecas instaladas en nuestro entrono\n",
    "```python\n",
    "pip freeze\n",
    "```\n",
    "Al no mostrar un resultado, debido a que no tenemos ninguna biblioteca instalada en nuestro entorno, por lo cual procederemos a realizar con el siguiente comando\n",
    "```python\n",
    "pip install python-dateutil\n",
    "```\n",
    "Nos mostrar un mensaje de instalado\n",
    "\n",
    "![kata](images/kata2-3.png)"
   ]
  },
  {
   "cell_type": "markdown",
   "metadata": {},
   "source": [
    "Al volvemos a ejucatar el comanado para ver el cambio de resultado\n",
    "```python\n",
    "pip freeze\n",
    "```\n",
    "Ahora nos nuestra una lista con la biblioteca que instalamos hace poco\n",
    "\n",
    "![kata](images/kata2-4.png)"
   ]
  },
  {
   "cell_type": "markdown",
   "metadata": {},
   "source": [
    "# Desactivar un entorno virtual"
   ]
  },
  {
   "cell_type": "markdown",
   "metadata": {},
   "source": [
    "Para desactivar el entorno virtual utilizaremos el siguiente comando\n",
    "```python\n",
    "deactivate\n",
    "```\n",
    "\n",
    "![kata](images/kata2-5.png)\n",
    "\n",
    "Para saber si estamos en el entorno es de la siguiente manera. Si al principio aparece \"(env) o (nombre_entorno)\" es que estamos dentro del entorno virtual y si no aparece es que no estamos dentro del entorno virtual, para este caso nuestro entorno se llama \"env\".\n",
    "\n",
    "![kata](images/kata2-6.png)"
   ]
  },
  {
   "cell_type": "markdown",
   "metadata": {},
   "source": [
    "# Todo el proceso\n",
    "\n",
    "![kata](images/kata2.png)"
   ]
  }
 ],
 "metadata": {
  "language_info": {
   "name": "python"
  },
  "orig_nbformat": 4
 },
 "nbformat": 4,
 "nbformat_minor": 2
}
